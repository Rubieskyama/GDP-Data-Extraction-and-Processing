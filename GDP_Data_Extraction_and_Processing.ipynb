{
  "nbformat": 4,
  "nbformat_minor": 0,
  "metadata": {
    "colab": {
      "provenance": [],
      "authorship_tag": "ABX9TyOh2G6keLIBv0lGomAjYjkJ"
    },
    "kernelspec": {
      "name": "python3",
      "display_name": "Python 3"
    },
    "language_info": {
      "name": "python"
    }
  },
  "cells": [
    {
      "cell_type": "markdown",
      "source": [
        "#**GDP Data Extraction and Processing**\n",
        "\n",
        "##**Introduction**\n",
        "In this project I will extract data from a website using webscraping and reqeust APIs to process it using Pandas and Numpy libraries."
      ],
      "metadata": {
        "id": "Fd9JGbtKMIuv"
      }
    },
    {
      "cell_type": "markdown",
      "source": [
        "For this project, we will be using the following libraries:\n",
        "- pandas for managing the data.\n",
        "- numpy for mathematical operations."
      ],
      "metadata": {
        "id": "eNyjHJrUNDvl"
      }
    },
    {
      "cell_type": "code",
      "execution_count": 1,
      "metadata": {
        "id": "JO4Q80TSLZaz"
      },
      "outputs": [],
      "source": [
        "#importing required libraries\n",
        "import pandas as pd\n",
        "import numpy as np"
      ]
    },
    {
      "cell_type": "markdown",
      "source": [
        "Extract the required GDP data from the given URL using Web Scraping."
      ],
      "metadata": {
        "id": "S1mtNh0SOaYY"
      }
    },
    {
      "cell_type": "code",
      "source": [
        "URL=\"https://web.archive.org/web/20230902185326/https://en.wikipedia.org/wiki/List_of_countries_by_GDP_%28nominal%29\""
      ],
      "metadata": {
        "id": "K-0XA77XNyQ-"
      },
      "execution_count": 2,
      "outputs": []
    },
    {
      "cell_type": "markdown",
      "source": [
        "Use Pandas library to extract the required table directly as a DataFrame."
      ],
      "metadata": {
        "id": "jC6qjb7vSC6k"
      }
    },
    {
      "cell_type": "code",
      "source": [
        "# Extract tables from webpage using Pandas. Retain table number 3 as the required dataframe.\n",
        "tables = pd.read_html(URL)\n",
        "df = tables[3]\n",
        "\n",
        "# Replace the column headers with column numbers\n",
        "df.columns = range(df.shape[1])\n",
        "\n",
        "# Retain columns with index 0 and 2 (name of country and value of GDP quoted by IMF)\n",
        "df = df[[0,2]]\n",
        "\n",
        "# Retain the Rows with index 1 to 10, indicating the top 10 economies of the world.\n",
        "df = df.iloc[1:11,:]\n",
        "\n",
        "# Assign column names as \"Country\" and \"GDP (Million USD)\"\n",
        "df.columns = [\"Country\", \"GDP (Million USD)\"]"
      ],
      "metadata": {
        "id": "xW-KsD0cOsGy"
      },
      "execution_count": 21,
      "outputs": []
    },
    {
      "cell_type": "markdown",
      "source": [
        "Modify the GDP column of the DataFrame, converting the value available in Million USD to Billion USD. Use the round() method of Numpy library to round the value to 2 decimal places. Modify the header of the DataFrame to GDP (Billion USD)."
      ],
      "metadata": {
        "id": "6P5ZyehgXH8d"
      }
    },
    {
      "cell_type": "code",
      "source": [
        "# Change the data type of the 'GDP (Million USD)' column to integer. Use astype() method.\n",
        "df['GDP (Million USD)'] = df['GDP (Million USD)'].astype(int)\n",
        "\n",
        "# Convert the GDP value in Million USD to Billion USD\n",
        "df['GDP (Million USD)'] = df['GDP (Million USD)'] / 1000\n",
        "\n",
        "# Use numpy.round() method to round the value to 2 decimal places.\n",
        "df['GDP (Million USD)'] = np.round(df['GDP (Million USD)'],2)\n",
        "\n",
        "# Rename the column header from 'GDP (Million USD)' to 'GDP (Billion USD)'\n",
        "df = df.rename(columns={'GDP (Million USD)': 'GDP (Billion USD)'})"
      ],
      "metadata": {
        "id": "QS0aShWUSRlV"
      },
      "execution_count": 22,
      "outputs": []
    },
    {
      "cell_type": "markdown",
      "source": [
        "Load the DataFrame to the CSV file named \"Largest_economies.csv\""
      ],
      "metadata": {
        "id": "4Keld3CObEEg"
      }
    },
    {
      "cell_type": "code",
      "source": [
        "df.to_csv('Largest_economies.csv')"
      ],
      "metadata": {
        "id": "lNQeBifYY04t"
      },
      "execution_count": 23,
      "outputs": []
    }
  ]
}